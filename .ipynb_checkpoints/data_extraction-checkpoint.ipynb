{
 "cells": [
  {
   "cell_type": "code",
   "execution_count": 1,
   "id": "temporal-history",
   "metadata": {},
   "outputs": [],
   "source": [
    "#!pip install spacy\n",
    "#!python -m spacy download it_core_news_lg"
   ]
  },
  {
   "cell_type": "code",
   "execution_count": 2,
   "id": "affecting-bankruptcy",
   "metadata": {},
   "outputs": [],
   "source": [
    "import spacy"
   ]
  },
  {
   "cell_type": "code",
   "execution_count": 3,
   "id": "grave-jaguar",
   "metadata": {},
   "outputs": [],
   "source": [
    "nlp = spacy.load(\"it_core_news_lg\")"
   ]
  },
  {
   "cell_type": "code",
   "execution_count": 4,
   "id": "proved-democrat",
   "metadata": {},
   "outputs": [],
   "source": [
    "text = \"Leonardo da Vinci, nato a Vinci, è considerato uno dei più grandi geni della storia.\""
   ]
  },
  {
   "cell_type": "code",
   "execution_count": 5,
   "id": "joint-police",
   "metadata": {},
   "outputs": [],
   "source": [
    "doc = nlp(text)"
   ]
  },
  {
   "cell_type": "markdown",
   "id": "classified-chest",
   "metadata": {},
   "source": [
    "# Estrazione dei lemmi"
   ]
  },
  {
   "cell_type": "code",
   "execution_count": 6,
   "id": "worldwide-ancient",
   "metadata": {},
   "outputs": [
    {
     "name": "stdout",
     "output_type": "stream",
     "text": [
      "Leonardo Leonardo\n",
      "da da\n",
      "Vinci Vinci\n",
      ", ,\n",
      "nato nascere\n",
      "a a\n",
      "Vinci Vinci\n",
      ", ,\n",
      "è essere\n",
      "considerato considerare\n",
      "uno uno\n",
      "dei del\n",
      "più molto\n",
      "grandi grande\n",
      "geni genio\n",
      "della della\n",
      "storia storia\n",
      ". .\n"
     ]
    }
   ],
   "source": [
    "for token in doc:\n",
    "    print(token.text, token.lemma_)"
   ]
  },
  {
   "cell_type": "markdown",
   "id": "clean-spank",
   "metadata": {},
   "source": [
    "# Part-Of-Speech"
   ]
  },
  {
   "cell_type": "code",
   "execution_count": 7,
   "id": "prime-joseph",
   "metadata": {},
   "outputs": [
    {
     "name": "stdout",
     "output_type": "stream",
     "text": [
      "Leonardo PROPN\n",
      "da ADP\n",
      "Vinci PROPN\n",
      ", PUNCT\n",
      "nato VERB\n",
      "a ADP\n",
      "Vinci PROPN\n",
      ", PUNCT\n",
      "è AUX\n",
      "considerato VERB\n",
      "uno PRON\n",
      "dei ADP\n",
      "più ADV\n",
      "grandi ADJ\n",
      "geni NOUN\n",
      "della ADP\n",
      "storia NOUN\n",
      ". PUNCT\n"
     ]
    }
   ],
   "source": [
    "for token in doc:\n",
    "    print(token.text, token.pos_)"
   ]
  },
  {
   "cell_type": "markdown",
   "id": "dietary-college",
   "metadata": {},
   "source": [
    "# NER (Named Entity Recognition)"
   ]
  },
  {
   "cell_type": "code",
   "execution_count": 8,
   "id": "parliamentary-tulsa",
   "metadata": {},
   "outputs": [
    {
     "name": "stdout",
     "output_type": "stream",
     "text": [
      "Leonardo da Vinci 0 17 PER\n",
      "Vinci 26 31 LOC\n"
     ]
    }
   ],
   "source": [
    "for ent in doc.ents:\n",
    "    print(ent.text, ent.start_char, ent.end_char, ent.label_)"
   ]
  }
 ],
 "metadata": {
  "kernelspec": {
   "display_name": "Python 3",
   "language": "python",
   "name": "python3"
  },
  "language_info": {
   "codemirror_mode": {
    "name": "ipython",
    "version": 3
   },
   "file_extension": ".py",
   "mimetype": "text/x-python",
   "name": "python",
   "nbconvert_exporter": "python",
   "pygments_lexer": "ipython3",
   "version": "3.7.9"
  }
 },
 "nbformat": 4,
 "nbformat_minor": 5
}
